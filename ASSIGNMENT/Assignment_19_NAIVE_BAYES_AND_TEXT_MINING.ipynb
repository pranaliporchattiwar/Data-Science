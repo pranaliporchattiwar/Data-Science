{
  "nbformat": 4,
  "nbformat_minor": 0,
  "metadata": {
    "colab": {
      "provenance": []
    },
    "kernelspec": {
      "name": "python3",
      "display_name": "Python 3"
    },
    "language_info": {
      "name": "python"
    }
  },
  "cells": [
    {
      "cell_type": "code",
      "execution_count": 1,
      "metadata": {
        "id": "_1sOUkcxSwEN",
        "colab": {
          "base_uri": "https://localhost:8080/"
        },
        "outputId": "539b53b7-0f0d-411c-8835-6dffb402320f"
      },
      "outputs": [
        {
          "output_type": "stream",
          "name": "stderr",
          "text": [
            "[nltk_data] Downloading package stopwords to /root/nltk_data...\n",
            "[nltk_data]   Unzipping corpora/stopwords.zip.\n",
            "[nltk_data] Downloading package wordnet to /root/nltk_data...\n",
            "[nltk_data] Downloading package omw-1.4 to /root/nltk_data...\n"
          ]
        }
      ],
      "source": [
        "import pandas as pd\n",
        "import string\n",
        "import nltk\n",
        "nltk.download('stopwords')\n",
        "nltk.download('wordnet')\n",
        "nltk.download('omw-1.4')\n",
        "from nltk.corpus import stopwords\n",
        "from sklearn.feature_extraction.text import TfidfVectorizer\n",
        "from sklearn.model_selection import train_test_split\n",
        "from sklearn.naive_bayes import MultinomialNB\n",
        "from sklearn.metrics import accuracy_score, classification_report\n",
        "from textblob import TextBlob"
      ]
    },
    {
      "cell_type": "markdown",
      "source": [
        "# **1: Data Exploration and Preprocessing**\n",
        "•\tLoad the \"blogs_categories.csv\" dataset and perform an exploratory data analysis to understand its structure and content.\n",
        "\n",
        "•\tPreprocess the data by cleaning the text (removing punctuation, converting to lowercase, etc.), tokenizing, and removing stopwords.\n",
        "\n",
        "•\tPerform feature extraction to convert text data into a format that can be used by the Naive Bayes model, using techniques such as TF-IDF.\n",
        "\n",
        "\n"
      ],
      "metadata": {
        "id": "z2fHE7zSVMiS"
      }
    },
    {
      "cell_type": "code",
      "source": [
        "df = pd.read_csv('/content/blogs.csv')"
      ],
      "metadata": {
        "id": "CpgeJlSLVL4A"
      },
      "execution_count": 2,
      "outputs": []
    },
    {
      "cell_type": "code",
      "source": [
        "df"
      ],
      "metadata": {
        "colab": {
          "base_uri": "https://localhost:8080/",
          "height": 424
        },
        "id": "LSoV-8ivVav-",
        "outputId": "6cc68bab-10b2-4ffb-ab56-9ea8e5764cd8"
      },
      "execution_count": 3,
      "outputs": [
        {
          "output_type": "execute_result",
          "data": {
            "text/plain": [
              "                                                   Data              Labels\n",
              "0     Path: cantaloupe.srv.cs.cmu.edu!magnesium.club...         alt.atheism\n",
              "1     Newsgroups: alt.atheism\\nPath: cantaloupe.srv....         alt.atheism\n",
              "2     Path: cantaloupe.srv.cs.cmu.edu!das-news.harva...         alt.atheism\n",
              "3     Path: cantaloupe.srv.cs.cmu.edu!magnesium.club...         alt.atheism\n",
              "4     Xref: cantaloupe.srv.cs.cmu.edu alt.atheism:53...         alt.atheism\n",
              "...                                                 ...                 ...\n",
              "1995  Xref: cantaloupe.srv.cs.cmu.edu talk.abortion:...  talk.religion.misc\n",
              "1996  Xref: cantaloupe.srv.cs.cmu.edu talk.religion....  talk.religion.misc\n",
              "1997  Xref: cantaloupe.srv.cs.cmu.edu talk.origins:4...  talk.religion.misc\n",
              "1998  Xref: cantaloupe.srv.cs.cmu.edu talk.religion....  talk.religion.misc\n",
              "1999  Xref: cantaloupe.srv.cs.cmu.edu sci.skeptic:43...  talk.religion.misc\n",
              "\n",
              "[2000 rows x 2 columns]"
            ],
            "text/html": [
              "\n",
              "  <div id=\"df-f237f42c-84ad-423c-b39d-1ab0b1753ccb\" class=\"colab-df-container\">\n",
              "    <div>\n",
              "<style scoped>\n",
              "    .dataframe tbody tr th:only-of-type {\n",
              "        vertical-align: middle;\n",
              "    }\n",
              "\n",
              "    .dataframe tbody tr th {\n",
              "        vertical-align: top;\n",
              "    }\n",
              "\n",
              "    .dataframe thead th {\n",
              "        text-align: right;\n",
              "    }\n",
              "</style>\n",
              "<table border=\"1\" class=\"dataframe\">\n",
              "  <thead>\n",
              "    <tr style=\"text-align: right;\">\n",
              "      <th></th>\n",
              "      <th>Data</th>\n",
              "      <th>Labels</th>\n",
              "    </tr>\n",
              "  </thead>\n",
              "  <tbody>\n",
              "    <tr>\n",
              "      <th>0</th>\n",
              "      <td>Path: cantaloupe.srv.cs.cmu.edu!magnesium.club...</td>\n",
              "      <td>alt.atheism</td>\n",
              "    </tr>\n",
              "    <tr>\n",
              "      <th>1</th>\n",
              "      <td>Newsgroups: alt.atheism\\nPath: cantaloupe.srv....</td>\n",
              "      <td>alt.atheism</td>\n",
              "    </tr>\n",
              "    <tr>\n",
              "      <th>2</th>\n",
              "      <td>Path: cantaloupe.srv.cs.cmu.edu!das-news.harva...</td>\n",
              "      <td>alt.atheism</td>\n",
              "    </tr>\n",
              "    <tr>\n",
              "      <th>3</th>\n",
              "      <td>Path: cantaloupe.srv.cs.cmu.edu!magnesium.club...</td>\n",
              "      <td>alt.atheism</td>\n",
              "    </tr>\n",
              "    <tr>\n",
              "      <th>4</th>\n",
              "      <td>Xref: cantaloupe.srv.cs.cmu.edu alt.atheism:53...</td>\n",
              "      <td>alt.atheism</td>\n",
              "    </tr>\n",
              "    <tr>\n",
              "      <th>...</th>\n",
              "      <td>...</td>\n",
              "      <td>...</td>\n",
              "    </tr>\n",
              "    <tr>\n",
              "      <th>1995</th>\n",
              "      <td>Xref: cantaloupe.srv.cs.cmu.edu talk.abortion:...</td>\n",
              "      <td>talk.religion.misc</td>\n",
              "    </tr>\n",
              "    <tr>\n",
              "      <th>1996</th>\n",
              "      <td>Xref: cantaloupe.srv.cs.cmu.edu talk.religion....</td>\n",
              "      <td>talk.religion.misc</td>\n",
              "    </tr>\n",
              "    <tr>\n",
              "      <th>1997</th>\n",
              "      <td>Xref: cantaloupe.srv.cs.cmu.edu talk.origins:4...</td>\n",
              "      <td>talk.religion.misc</td>\n",
              "    </tr>\n",
              "    <tr>\n",
              "      <th>1998</th>\n",
              "      <td>Xref: cantaloupe.srv.cs.cmu.edu talk.religion....</td>\n",
              "      <td>talk.religion.misc</td>\n",
              "    </tr>\n",
              "    <tr>\n",
              "      <th>1999</th>\n",
              "      <td>Xref: cantaloupe.srv.cs.cmu.edu sci.skeptic:43...</td>\n",
              "      <td>talk.religion.misc</td>\n",
              "    </tr>\n",
              "  </tbody>\n",
              "</table>\n",
              "<p>2000 rows × 2 columns</p>\n",
              "</div>\n",
              "    <div class=\"colab-df-buttons\">\n",
              "\n",
              "  <div class=\"colab-df-container\">\n",
              "    <button class=\"colab-df-convert\" onclick=\"convertToInteractive('df-f237f42c-84ad-423c-b39d-1ab0b1753ccb')\"\n",
              "            title=\"Convert this dataframe to an interactive table.\"\n",
              "            style=\"display:none;\">\n",
              "\n",
              "  <svg xmlns=\"http://www.w3.org/2000/svg\" height=\"24px\" viewBox=\"0 -960 960 960\">\n",
              "    <path d=\"M120-120v-720h720v720H120Zm60-500h600v-160H180v160Zm220 220h160v-160H400v160Zm0 220h160v-160H400v160ZM180-400h160v-160H180v160Zm440 0h160v-160H620v160ZM180-180h160v-160H180v160Zm440 0h160v-160H620v160Z\"/>\n",
              "  </svg>\n",
              "    </button>\n",
              "\n",
              "  <style>\n",
              "    .colab-df-container {\n",
              "      display:flex;\n",
              "      gap: 12px;\n",
              "    }\n",
              "\n",
              "    .colab-df-convert {\n",
              "      background-color: #E8F0FE;\n",
              "      border: none;\n",
              "      border-radius: 50%;\n",
              "      cursor: pointer;\n",
              "      display: none;\n",
              "      fill: #1967D2;\n",
              "      height: 32px;\n",
              "      padding: 0 0 0 0;\n",
              "      width: 32px;\n",
              "    }\n",
              "\n",
              "    .colab-df-convert:hover {\n",
              "      background-color: #E2EBFA;\n",
              "      box-shadow: 0px 1px 2px rgba(60, 64, 67, 0.3), 0px 1px 3px 1px rgba(60, 64, 67, 0.15);\n",
              "      fill: #174EA6;\n",
              "    }\n",
              "\n",
              "    .colab-df-buttons div {\n",
              "      margin-bottom: 4px;\n",
              "    }\n",
              "\n",
              "    [theme=dark] .colab-df-convert {\n",
              "      background-color: #3B4455;\n",
              "      fill: #D2E3FC;\n",
              "    }\n",
              "\n",
              "    [theme=dark] .colab-df-convert:hover {\n",
              "      background-color: #434B5C;\n",
              "      box-shadow: 0px 1px 3px 1px rgba(0, 0, 0, 0.15);\n",
              "      filter: drop-shadow(0px 1px 2px rgba(0, 0, 0, 0.3));\n",
              "      fill: #FFFFFF;\n",
              "    }\n",
              "  </style>\n",
              "\n",
              "    <script>\n",
              "      const buttonEl =\n",
              "        document.querySelector('#df-f237f42c-84ad-423c-b39d-1ab0b1753ccb button.colab-df-convert');\n",
              "      buttonEl.style.display =\n",
              "        google.colab.kernel.accessAllowed ? 'block' : 'none';\n",
              "\n",
              "      async function convertToInteractive(key) {\n",
              "        const element = document.querySelector('#df-f237f42c-84ad-423c-b39d-1ab0b1753ccb');\n",
              "        const dataTable =\n",
              "          await google.colab.kernel.invokeFunction('convertToInteractive',\n",
              "                                                    [key], {});\n",
              "        if (!dataTable) return;\n",
              "\n",
              "        const docLinkHtml = 'Like what you see? Visit the ' +\n",
              "          '<a target=\"_blank\" href=https://colab.research.google.com/notebooks/data_table.ipynb>data table notebook</a>'\n",
              "          + ' to learn more about interactive tables.';\n",
              "        element.innerHTML = '';\n",
              "        dataTable['output_type'] = 'display_data';\n",
              "        await google.colab.output.renderOutput(dataTable, element);\n",
              "        const docLink = document.createElement('div');\n",
              "        docLink.innerHTML = docLinkHtml;\n",
              "        element.appendChild(docLink);\n",
              "      }\n",
              "    </script>\n",
              "  </div>\n",
              "\n",
              "\n",
              "<div id=\"df-a61f215b-e64d-4f1c-a4ac-058f7025e4d5\">\n",
              "  <button class=\"colab-df-quickchart\" onclick=\"quickchart('df-a61f215b-e64d-4f1c-a4ac-058f7025e4d5')\"\n",
              "            title=\"Suggest charts\"\n",
              "            style=\"display:none;\">\n",
              "\n",
              "<svg xmlns=\"http://www.w3.org/2000/svg\" height=\"24px\"viewBox=\"0 0 24 24\"\n",
              "     width=\"24px\">\n",
              "    <g>\n",
              "        <path d=\"M19 3H5c-1.1 0-2 .9-2 2v14c0 1.1.9 2 2 2h14c1.1 0 2-.9 2-2V5c0-1.1-.9-2-2-2zM9 17H7v-7h2v7zm4 0h-2V7h2v10zm4 0h-2v-4h2v4z\"/>\n",
              "    </g>\n",
              "</svg>\n",
              "  </button>\n",
              "\n",
              "<style>\n",
              "  .colab-df-quickchart {\n",
              "      --bg-color: #E8F0FE;\n",
              "      --fill-color: #1967D2;\n",
              "      --hover-bg-color: #E2EBFA;\n",
              "      --hover-fill-color: #174EA6;\n",
              "      --disabled-fill-color: #AAA;\n",
              "      --disabled-bg-color: #DDD;\n",
              "  }\n",
              "\n",
              "  [theme=dark] .colab-df-quickchart {\n",
              "      --bg-color: #3B4455;\n",
              "      --fill-color: #D2E3FC;\n",
              "      --hover-bg-color: #434B5C;\n",
              "      --hover-fill-color: #FFFFFF;\n",
              "      --disabled-bg-color: #3B4455;\n",
              "      --disabled-fill-color: #666;\n",
              "  }\n",
              "\n",
              "  .colab-df-quickchart {\n",
              "    background-color: var(--bg-color);\n",
              "    border: none;\n",
              "    border-radius: 50%;\n",
              "    cursor: pointer;\n",
              "    display: none;\n",
              "    fill: var(--fill-color);\n",
              "    height: 32px;\n",
              "    padding: 0;\n",
              "    width: 32px;\n",
              "  }\n",
              "\n",
              "  .colab-df-quickchart:hover {\n",
              "    background-color: var(--hover-bg-color);\n",
              "    box-shadow: 0 1px 2px rgba(60, 64, 67, 0.3), 0 1px 3px 1px rgba(60, 64, 67, 0.15);\n",
              "    fill: var(--button-hover-fill-color);\n",
              "  }\n",
              "\n",
              "  .colab-df-quickchart-complete:disabled,\n",
              "  .colab-df-quickchart-complete:disabled:hover {\n",
              "    background-color: var(--disabled-bg-color);\n",
              "    fill: var(--disabled-fill-color);\n",
              "    box-shadow: none;\n",
              "  }\n",
              "\n",
              "  .colab-df-spinner {\n",
              "    border: 2px solid var(--fill-color);\n",
              "    border-color: transparent;\n",
              "    border-bottom-color: var(--fill-color);\n",
              "    animation:\n",
              "      spin 1s steps(1) infinite;\n",
              "  }\n",
              "\n",
              "  @keyframes spin {\n",
              "    0% {\n",
              "      border-color: transparent;\n",
              "      border-bottom-color: var(--fill-color);\n",
              "      border-left-color: var(--fill-color);\n",
              "    }\n",
              "    20% {\n",
              "      border-color: transparent;\n",
              "      border-left-color: var(--fill-color);\n",
              "      border-top-color: var(--fill-color);\n",
              "    }\n",
              "    30% {\n",
              "      border-color: transparent;\n",
              "      border-left-color: var(--fill-color);\n",
              "      border-top-color: var(--fill-color);\n",
              "      border-right-color: var(--fill-color);\n",
              "    }\n",
              "    40% {\n",
              "      border-color: transparent;\n",
              "      border-right-color: var(--fill-color);\n",
              "      border-top-color: var(--fill-color);\n",
              "    }\n",
              "    60% {\n",
              "      border-color: transparent;\n",
              "      border-right-color: var(--fill-color);\n",
              "    }\n",
              "    80% {\n",
              "      border-color: transparent;\n",
              "      border-right-color: var(--fill-color);\n",
              "      border-bottom-color: var(--fill-color);\n",
              "    }\n",
              "    90% {\n",
              "      border-color: transparent;\n",
              "      border-bottom-color: var(--fill-color);\n",
              "    }\n",
              "  }\n",
              "</style>\n",
              "\n",
              "  <script>\n",
              "    async function quickchart(key) {\n",
              "      const quickchartButtonEl =\n",
              "        document.querySelector('#' + key + ' button');\n",
              "      quickchartButtonEl.disabled = true;  // To prevent multiple clicks.\n",
              "      quickchartButtonEl.classList.add('colab-df-spinner');\n",
              "      try {\n",
              "        const charts = await google.colab.kernel.invokeFunction(\n",
              "            'suggestCharts', [key], {});\n",
              "      } catch (error) {\n",
              "        console.error('Error during call to suggestCharts:', error);\n",
              "      }\n",
              "      quickchartButtonEl.classList.remove('colab-df-spinner');\n",
              "      quickchartButtonEl.classList.add('colab-df-quickchart-complete');\n",
              "    }\n",
              "    (() => {\n",
              "      let quickchartButtonEl =\n",
              "        document.querySelector('#df-a61f215b-e64d-4f1c-a4ac-058f7025e4d5 button');\n",
              "      quickchartButtonEl.style.display =\n",
              "        google.colab.kernel.accessAllowed ? 'block' : 'none';\n",
              "    })();\n",
              "  </script>\n",
              "</div>\n",
              "\n",
              "  <div id=\"id_13be9a75-9f8e-4b62-921e-37b1f624cba8\">\n",
              "    <style>\n",
              "      .colab-df-generate {\n",
              "        background-color: #E8F0FE;\n",
              "        border: none;\n",
              "        border-radius: 50%;\n",
              "        cursor: pointer;\n",
              "        display: none;\n",
              "        fill: #1967D2;\n",
              "        height: 32px;\n",
              "        padding: 0 0 0 0;\n",
              "        width: 32px;\n",
              "      }\n",
              "\n",
              "      .colab-df-generate:hover {\n",
              "        background-color: #E2EBFA;\n",
              "        box-shadow: 0px 1px 2px rgba(60, 64, 67, 0.3), 0px 1px 3px 1px rgba(60, 64, 67, 0.15);\n",
              "        fill: #174EA6;\n",
              "      }\n",
              "\n",
              "      [theme=dark] .colab-df-generate {\n",
              "        background-color: #3B4455;\n",
              "        fill: #D2E3FC;\n",
              "      }\n",
              "\n",
              "      [theme=dark] .colab-df-generate:hover {\n",
              "        background-color: #434B5C;\n",
              "        box-shadow: 0px 1px 3px 1px rgba(0, 0, 0, 0.15);\n",
              "        filter: drop-shadow(0px 1px 2px rgba(0, 0, 0, 0.3));\n",
              "        fill: #FFFFFF;\n",
              "      }\n",
              "    </style>\n",
              "    <button class=\"colab-df-generate\" onclick=\"generateWithVariable('df')\"\n",
              "            title=\"Generate code using this dataframe.\"\n",
              "            style=\"display:none;\">\n",
              "\n",
              "  <svg xmlns=\"http://www.w3.org/2000/svg\" height=\"24px\"viewBox=\"0 0 24 24\"\n",
              "       width=\"24px\">\n",
              "    <path d=\"M7,19H8.4L18.45,9,17,7.55,7,17.6ZM5,21V16.75L18.45,3.32a2,2,0,0,1,2.83,0l1.4,1.43a1.91,1.91,0,0,1,.58,1.4,1.91,1.91,0,0,1-.58,1.4L9.25,21ZM18.45,9,17,7.55Zm-12,3A5.31,5.31,0,0,0,4.9,8.1,5.31,5.31,0,0,0,1,6.5,5.31,5.31,0,0,0,4.9,4.9,5.31,5.31,0,0,0,6.5,1,5.31,5.31,0,0,0,8.1,4.9,5.31,5.31,0,0,0,12,6.5,5.46,5.46,0,0,0,6.5,12Z\"/>\n",
              "  </svg>\n",
              "    </button>\n",
              "    <script>\n",
              "      (() => {\n",
              "      const buttonEl =\n",
              "        document.querySelector('#id_13be9a75-9f8e-4b62-921e-37b1f624cba8 button.colab-df-generate');\n",
              "      buttonEl.style.display =\n",
              "        google.colab.kernel.accessAllowed ? 'block' : 'none';\n",
              "\n",
              "      buttonEl.onclick = () => {\n",
              "        google.colab.notebook.generateWithVariable('df');\n",
              "      }\n",
              "      })();\n",
              "    </script>\n",
              "  </div>\n",
              "\n",
              "    </div>\n",
              "  </div>\n"
            ],
            "application/vnd.google.colaboratory.intrinsic+json": {
              "type": "dataframe",
              "variable_name": "df",
              "summary": "{\n  \"name\": \"df\",\n  \"rows\": 2000,\n  \"fields\": [\n    {\n      \"column\": \"Data\",\n      \"properties\": {\n        \"dtype\": \"string\",\n        \"num_unique_values\": 2000,\n        \"samples\": [\n          \"Xref: cantaloupe.srv.cs.cmu.edu misc.headlines:41725 talk.politics.misc:178455 soc.culture.african.american:27032\\nPath: cantaloupe.srv.cs.cmu.edu!das-news.harvard.edu!noc.near.net!uunet!enterpoop.mit.edu!senator-bedfellow.mit.edu!senator-bedfellow.mit.edu!usenet\\nFrom: wdstarr@athena.mit.edu (William December Starr)\\nNewsgroups: misc.headlines,talk.politics.misc,soc.culture.african.american\\nSubject: Re: rnitedace and violence\\nDate: 19 Apr 1993 03:25:19 GMT\\nOrganization: Northeastern Law, Class of '93\\nLines: 20\\nDistribution: usa\\nMessage-ID: <1qt62vINN78p@senator-bedfellow.MIT.EDU>\\nReferences: <mdouglasC5nIEu.1w9@netcom.com> <C5ovG2.J24@magpie.linknet.com>\\nNNTP-Posting-Host: nw12-326-1.mit.edu\\nIn-reply-to: neal@magpie.linknet.com (Neal)\\n\\n\\nIn article <C5ovG2.J24@magpie.linknet.com>, \\nneal@magpie.linknet.com (Neal) said:\\n\\n> My views are out of experiences when I was a police officer in a large\\n> metropolitan area, and of a citizen. Unless people account for their\\n> behavior, and for the behavior of their immediate community, nothing\\n> will improve.\\n\\nWait a minute.  I agree with you that people have to take responsibility\\nfor their own behavior (I assume that's what you meant by the word\\n\\\"account\\\"), but also for \\\"the behavior of their immediate community\\\"?\\n\\nFirst of all, how \\\"immediate\\\" are you talking about, and secondly, I\\nhave a lot of trouble with any theory of social behavior or justice\\nwhich charges anyone with the duty of taking responsibility for or\\naccounting for the actions of a different person...\\n\\n-- William December Starr <wdstarr@athena.mit.edu>\\n\\n\",\n          \"Newsgroups: comp.sys.ibm.pc.hardware\\nPath: cantaloupe.srv.cs.cmu.edu!das-news.harvard.edu!noc.near.net!howland.reston.ans.net!gatech!swrinde!network.ucsd.edu!pacbell.com!amdahl!amdcad!dvorak.amd.com!tdbear\\nFrom: tdbear@dvorak.amd.com (Thomas D. Barrett)\\nSubject: Re: Rockwell Chipset for 14.4's ... Any good?\\nMessage-ID: <1993Apr19.012351.13406@dvorak.amd.com>\\nOrganization: Advanced Micro Devices, Inc.; Austin, Texas\\nReferences: <im14u2c.735176900@camelot>\\nDate: Mon, 19 Apr 93 01:23:51 GMT\\nLines: 28\\n\\nIn article <im14u2c.735176900@camelot> im14u2c@camelot.bradley.edu (Joe Zbiciak) writes:\\n>What's the word on the chipset?  Is this a ROM bug specific \\n>to a specific brand using the Rockwell, or is it the Rockwell\\n>chipset itself?\\n\\nThere were an assortment of firmware problems, but that is pretty much\\nexpected with any FAX/modem talking with a different FAX or modem\\nwhich may have also been revised or is new.  I'm pretty much\\noblivious to any current firmware problems, so you'll have to get it\\nfrom someone else.\\n\\nHowever, I can tell you to stay clear of any board which uses the\\nRockwell MPU (as opposed to the DPU) for an internal implementation.\\nThis is because the MPU used \\\"speed buffering\\\" instead of having a\\n16550 interface.  Without the 550 interface, the number of interrupts\\nare still the same and thus may get dropped under multitasking\\nconditions (like in windows).  As far as I know, the \\\"speed buffering\\\"\\nworks OK for external modems if a 550 is used on the internal serial\\nport board.\\n\\nHope this helps...\\nTom\\n\\n-- \\n|Tom Barrett (TDBear), Sr. Engineer|tom.barrett@amd.com|v:512-462-6856 |\\n|AMD PCD MS-520 | 5900 E. Ben White|Austin, TX  78741  |f:512-462-5155 |\\n|...don't take no/take hold/don't leave it to chance ---Tasmin Archer  |\\n|My views are my own and may not be the same as the company of origin  |\\n\",\n          \"Xref: cantaloupe.srv.cs.cmu.edu sci.energy:15692 sci.image.processing:2712 sci.anthropology:2567 sci.skeptic:43417 sci.med:59143\\nNewsgroups: sci.energy,sci.image.processing,sci.anthropology,sci.skeptic,sci.med\\nPath: cantaloupe.srv.cs.cmu.edu!magnesium.club.cc.cmu.edu!news.sei.cmu.edu!cis.ohio-state.edu!zaphod.mps.ohio-state.edu!sdd.hp.com!network.ucsd.edu!news.service.uci.edu!unogate!stgprao\\nFrom: stgprao@st.unocal.COM (Richard Ottolini)\\nSubject: Re: Krillean Photography\\nMessage-ID: <1993Apr22.153815.11961@unocal.com>\\nSender: news@unocal.com (Unocal USENET News)\\nOrganization: Unocal Corporation\\nReferences: <1993Apr19.205615.1013@unlv.edu> <BLS101.93Apr21171051@keating.anu.edu.au> <21APR199316170714@oregon.uoregon.edu>\\nDate: Thu, 22 Apr 1993 15:38:15 GMT\\nLines: 20\\n\\nLiving things maintain small electric fields to (1) enhance certain\\nchemical reactions, (2) promote communication of states with in a cell,\\n(3) communicate between cells (of which the nervous system is a specialized\\nexample), and perhaps other uses.  These electric fields change with location\\nand time in a large organism.  Special photographic techniques such as applying\\nexternal fields in Kirillian photography interact with these fields or the resistances\\ncaused by these fields to make interesting pictures. Perhaps such pictures will\\nbe diagonistic of disease problems in organisms when better understood. Perhaps not.\\n\\nStudying the overall electric activity of biological systems is several hundred\\nyears old, but not a popular activity.  Perhaps, except in the case of a few\\ntissues like nerves and the electric senses of fishes, it is hard to reduce the\\ninvestigation into small pieces that can be clearly analyzed.  There are some\\nhints that manipulating electric fields is a useful therapy such as speeding\\nthe healing of broken bones, but not understood why.\\n\\nBioelectricity has a long association with mysticism. Ideas such as Frankenstein\\nreanimation go back to the most early electrical experiments on tissue such as\\nwhen Volta invented the battery.  I personally don't care to revert to supernatural\\ncause to explain things we don't yet understand.\\n\"\n        ],\n        \"semantic_type\": \"\",\n        \"description\": \"\"\n      }\n    },\n    {\n      \"column\": \"Labels\",\n      \"properties\": {\n        \"dtype\": \"category\",\n        \"num_unique_values\": 20,\n        \"samples\": [\n          \"alt.atheism\",\n          \"talk.politics.mideast\",\n          \"soc.religion.christian\"\n        ],\n        \"semantic_type\": \"\",\n        \"description\": \"\"\n      }\n    }\n  ]\n}"
            }
          },
          "metadata": {},
          "execution_count": 3
        }
      ]
    },
    {
      "cell_type": "code",
      "source": [
        "df.info()"
      ],
      "metadata": {
        "colab": {
          "base_uri": "https://localhost:8080/"
        },
        "id": "Jj50mvw9VdDk",
        "outputId": "7d7efd7e-4aee-4fd1-fee7-0e155db2b4e6"
      },
      "execution_count": 4,
      "outputs": [
        {
          "output_type": "stream",
          "name": "stdout",
          "text": [
            "<class 'pandas.core.frame.DataFrame'>\n",
            "RangeIndex: 2000 entries, 0 to 1999\n",
            "Data columns (total 2 columns):\n",
            " #   Column  Non-Null Count  Dtype \n",
            "---  ------  --------------  ----- \n",
            " 0   Data    2000 non-null   object\n",
            " 1   Labels  2000 non-null   object\n",
            "dtypes: object(2)\n",
            "memory usage: 31.4+ KB\n"
          ]
        }
      ]
    },
    {
      "cell_type": "code",
      "source": [
        "# Function to clean the text\n",
        "def preprocess_text(text):\n",
        "    # Convert to lowercase\n",
        "    text = text.lower()\n",
        "\n",
        "    # Remove punctuation\n",
        "    text = text.translate(str.maketrans('', '', string.punctuation))\n",
        "\n",
        "    # Tokenize and remove stopwords\n",
        "    stop_words = set(stopwords.words('english'))\n",
        "    tokens = [word for word in text.split() if word not in stop_words]\n",
        "\n",
        "    # Join tokens back to a single string\n",
        "    cleaned_text = ' '.join(tokens)\n",
        "\n",
        "    return cleaned_text"
      ],
      "metadata": {
        "id": "kB6Qfst9VrtY"
      },
      "execution_count": 5,
      "outputs": []
    },
    {
      "cell_type": "code",
      "source": [
        "# Apply preprocessing to the 'Data' column\n",
        "df['Cleaned_Text'] = df['Data'].apply(preprocess_text)"
      ],
      "metadata": {
        "id": "27uBRFvRWMoI"
      },
      "execution_count": 6,
      "outputs": []
    },
    {
      "cell_type": "code",
      "source": [
        "# Display the first few cleaned texts\n",
        "print(df[['Data', 'Cleaned_Text']].head())"
      ],
      "metadata": {
        "colab": {
          "base_uri": "https://localhost:8080/"
        },
        "id": "M5laqZz9WUSG",
        "outputId": "53cb39d4-409e-41df-eaf9-6ed6c3b38b6a"
      },
      "execution_count": 7,
      "outputs": [
        {
          "output_type": "stream",
          "name": "stdout",
          "text": [
            "                                                Data  \\\n",
            "0  Path: cantaloupe.srv.cs.cmu.edu!magnesium.club...   \n",
            "1  Newsgroups: alt.atheism\\nPath: cantaloupe.srv....   \n",
            "2  Path: cantaloupe.srv.cs.cmu.edu!das-news.harva...   \n",
            "3  Path: cantaloupe.srv.cs.cmu.edu!magnesium.club...   \n",
            "4  Xref: cantaloupe.srv.cs.cmu.edu alt.atheism:53...   \n",
            "\n",
            "                                        Cleaned_Text  \n",
            "0  path cantaloupesrvcscmuedumagnesiumclubcccmued...  \n",
            "1  newsgroups altatheism path cantaloupesrvcscmue...  \n",
            "2  path cantaloupesrvcscmuedudasnewsharvardedunoc...  \n",
            "3  path cantaloupesrvcscmuedumagnesiumclubcccmued...  \n",
            "4  xref cantaloupesrvcscmuedu altatheism53485 tal...  \n"
          ]
        }
      ]
    },
    {
      "cell_type": "code",
      "source": [
        "from sklearn.feature_extraction.text import TfidfVectorizer\n",
        "\n",
        "# Initialize the TF-IDF Vectorizer\n",
        "tfidf = TfidfVectorizer(max_features=5000)"
      ],
      "metadata": {
        "id": "17TZJO1LWYnv"
      },
      "execution_count": 8,
      "outputs": []
    },
    {
      "cell_type": "code",
      "source": [
        "# Fit and transform the cleaned text data\n",
        "X = tfidf.fit_transform(df['Cleaned_Text'])"
      ],
      "metadata": {
        "id": "F5R2-tZ3Wdus"
      },
      "execution_count": 9,
      "outputs": []
    },
    {
      "cell_type": "code",
      "source": [
        "# Convert the labels into numerical format\n",
        "y = df['Labels']"
      ],
      "metadata": {
        "id": "sulMaLKYWiCT"
      },
      "execution_count": 10,
      "outputs": []
    },
    {
      "cell_type": "markdown",
      "source": [
        "# **2: Naive Bayes Model for Text Classification**\n",
        "•\tSplit the data into training and test sets.\n",
        "\n",
        "•\tImplement a Naive Bayes classifier to categorize the blog posts into their respective categories. You can use libraries like scikit-learn for this purpose.\n",
        "\n",
        "•\tTrain the model on the training set and make predictions on the test set\n"
      ],
      "metadata": {
        "id": "yvqPOhpXWuP1"
      }
    },
    {
      "cell_type": "code",
      "source": [
        "# Split the data into training and test sets\n",
        "X_train, X_test, y_train, y_test = train_test_split(X, y, test_size=0.2, random_state=42)"
      ],
      "metadata": {
        "id": "2TVeZcb4WmNn"
      },
      "execution_count": 11,
      "outputs": []
    },
    {
      "cell_type": "code",
      "source": [
        "# Initialize the Naive Bayes classifier\n",
        "nb = MultinomialNB()"
      ],
      "metadata": {
        "id": "0NjyOAvrW42I"
      },
      "execution_count": 12,
      "outputs": []
    },
    {
      "cell_type": "code",
      "source": [
        "# Train the model\n",
        "nb.fit(X_train, y_train)"
      ],
      "metadata": {
        "colab": {
          "base_uri": "https://localhost:8080/",
          "height": 75
        },
        "id": "NdGsT8UpW7VE",
        "outputId": "ab493d56-cf43-4387-eca9-f2ca0a103de3"
      },
      "execution_count": 13,
      "outputs": [
        {
          "output_type": "execute_result",
          "data": {
            "text/plain": [
              "MultinomialNB()"
            ],
            "text/html": [
              "<style>#sk-container-id-1 {color: black;}#sk-container-id-1 pre{padding: 0;}#sk-container-id-1 div.sk-toggleable {background-color: white;}#sk-container-id-1 label.sk-toggleable__label {cursor: pointer;display: block;width: 100%;margin-bottom: 0;padding: 0.3em;box-sizing: border-box;text-align: center;}#sk-container-id-1 label.sk-toggleable__label-arrow:before {content: \"▸\";float: left;margin-right: 0.25em;color: #696969;}#sk-container-id-1 label.sk-toggleable__label-arrow:hover:before {color: black;}#sk-container-id-1 div.sk-estimator:hover label.sk-toggleable__label-arrow:before {color: black;}#sk-container-id-1 div.sk-toggleable__content {max-height: 0;max-width: 0;overflow: hidden;text-align: left;background-color: #f0f8ff;}#sk-container-id-1 div.sk-toggleable__content pre {margin: 0.2em;color: black;border-radius: 0.25em;background-color: #f0f8ff;}#sk-container-id-1 input.sk-toggleable__control:checked~div.sk-toggleable__content {max-height: 200px;max-width: 100%;overflow: auto;}#sk-container-id-1 input.sk-toggleable__control:checked~label.sk-toggleable__label-arrow:before {content: \"▾\";}#sk-container-id-1 div.sk-estimator input.sk-toggleable__control:checked~label.sk-toggleable__label {background-color: #d4ebff;}#sk-container-id-1 div.sk-label input.sk-toggleable__control:checked~label.sk-toggleable__label {background-color: #d4ebff;}#sk-container-id-1 input.sk-hidden--visually {border: 0;clip: rect(1px 1px 1px 1px);clip: rect(1px, 1px, 1px, 1px);height: 1px;margin: -1px;overflow: hidden;padding: 0;position: absolute;width: 1px;}#sk-container-id-1 div.sk-estimator {font-family: monospace;background-color: #f0f8ff;border: 1px dotted black;border-radius: 0.25em;box-sizing: border-box;margin-bottom: 0.5em;}#sk-container-id-1 div.sk-estimator:hover {background-color: #d4ebff;}#sk-container-id-1 div.sk-parallel-item::after {content: \"\";width: 100%;border-bottom: 1px solid gray;flex-grow: 1;}#sk-container-id-1 div.sk-label:hover label.sk-toggleable__label {background-color: #d4ebff;}#sk-container-id-1 div.sk-serial::before {content: \"\";position: absolute;border-left: 1px solid gray;box-sizing: border-box;top: 0;bottom: 0;left: 50%;z-index: 0;}#sk-container-id-1 div.sk-serial {display: flex;flex-direction: column;align-items: center;background-color: white;padding-right: 0.2em;padding-left: 0.2em;position: relative;}#sk-container-id-1 div.sk-item {position: relative;z-index: 1;}#sk-container-id-1 div.sk-parallel {display: flex;align-items: stretch;justify-content: center;background-color: white;position: relative;}#sk-container-id-1 div.sk-item::before, #sk-container-id-1 div.sk-parallel-item::before {content: \"\";position: absolute;border-left: 1px solid gray;box-sizing: border-box;top: 0;bottom: 0;left: 50%;z-index: -1;}#sk-container-id-1 div.sk-parallel-item {display: flex;flex-direction: column;z-index: 1;position: relative;background-color: white;}#sk-container-id-1 div.sk-parallel-item:first-child::after {align-self: flex-end;width: 50%;}#sk-container-id-1 div.sk-parallel-item:last-child::after {align-self: flex-start;width: 50%;}#sk-container-id-1 div.sk-parallel-item:only-child::after {width: 0;}#sk-container-id-1 div.sk-dashed-wrapped {border: 1px dashed gray;margin: 0 0.4em 0.5em 0.4em;box-sizing: border-box;padding-bottom: 0.4em;background-color: white;}#sk-container-id-1 div.sk-label label {font-family: monospace;font-weight: bold;display: inline-block;line-height: 1.2em;}#sk-container-id-1 div.sk-label-container {text-align: center;}#sk-container-id-1 div.sk-container {/* jupyter's `normalize.less` sets `[hidden] { display: none; }` but bootstrap.min.css set `[hidden] { display: none !important; }` so we also need the `!important` here to be able to override the default hidden behavior on the sphinx rendered scikit-learn.org. See: https://github.com/scikit-learn/scikit-learn/issues/21755 */display: inline-block !important;position: relative;}#sk-container-id-1 div.sk-text-repr-fallback {display: none;}</style><div id=\"sk-container-id-1\" class=\"sk-top-container\"><div class=\"sk-text-repr-fallback\"><pre>MultinomialNB()</pre><b>In a Jupyter environment, please rerun this cell to show the HTML representation or trust the notebook. <br />On GitHub, the HTML representation is unable to render, please try loading this page with nbviewer.org.</b></div><div class=\"sk-container\" hidden><div class=\"sk-item\"><div class=\"sk-estimator sk-toggleable\"><input class=\"sk-toggleable__control sk-hidden--visually\" id=\"sk-estimator-id-1\" type=\"checkbox\" checked><label for=\"sk-estimator-id-1\" class=\"sk-toggleable__label sk-toggleable__label-arrow\">MultinomialNB</label><div class=\"sk-toggleable__content\"><pre>MultinomialNB()</pre></div></div></div></div></div>"
            ]
          },
          "metadata": {},
          "execution_count": 13
        }
      ]
    },
    {
      "cell_type": "code",
      "source": [
        "# Make predictions\n",
        "y_pred = nb.predict(X_test)"
      ],
      "metadata": {
        "id": "VrlrpIbWW-sP"
      },
      "execution_count": 14,
      "outputs": []
    },
    {
      "cell_type": "code",
      "source": [
        "# Evaluate the model\n",
        "accuracy = accuracy_score(y_test, y_pred)\n",
        "print(f'Accuracy: {accuracy}')\n",
        "print(classification_report(y_test, y_pred))"
      ],
      "metadata": {
        "colab": {
          "base_uri": "https://localhost:8080/"
        },
        "id": "vCTIdQnFXE82",
        "outputId": "d144a06a-aeed-416f-8eef-fbec1342806d"
      },
      "execution_count": 15,
      "outputs": [
        {
          "output_type": "stream",
          "name": "stdout",
          "text": [
            "Accuracy: 0.8225\n",
            "                          precision    recall  f1-score   support\n",
            "\n",
            "             alt.atheism       0.50      0.83      0.62        18\n",
            "           comp.graphics       0.79      0.83      0.81        18\n",
            " comp.os.ms-windows.misc       0.86      0.82      0.84        22\n",
            "comp.sys.ibm.pc.hardware       0.76      0.76      0.76        25\n",
            "   comp.sys.mac.hardware       0.83      0.90      0.86        21\n",
            "          comp.windows.x       0.91      0.84      0.87        25\n",
            "            misc.forsale       0.82      0.78      0.80        18\n",
            "               rec.autos       0.89      0.94      0.92        18\n",
            "         rec.motorcycles       0.94      0.94      0.94        16\n",
            "      rec.sport.baseball       0.77      0.94      0.85        18\n",
            "        rec.sport.hockey       0.88      1.00      0.94        15\n",
            "               sci.crypt       0.95      0.95      0.95        19\n",
            "         sci.electronics       0.62      0.62      0.62        16\n",
            "                 sci.med       0.88      0.88      0.88        17\n",
            "               sci.space       1.00      0.81      0.89        21\n",
            "  soc.religion.christian       0.88      0.96      0.92        23\n",
            "      talk.politics.guns       0.85      0.79      0.81        28\n",
            "   talk.politics.mideast       1.00      0.90      0.95        20\n",
            "      talk.politics.misc       0.80      0.89      0.84        18\n",
            "      talk.religion.misc       0.60      0.25      0.35        24\n",
            "\n",
            "                accuracy                           0.82       400\n",
            "               macro avg       0.83      0.83      0.82       400\n",
            "            weighted avg       0.83      0.82      0.82       400\n",
            "\n"
          ]
        }
      ]
    },
    {
      "cell_type": "markdown",
      "source": [
        "# **3: Sentiment Analysis**\n",
        "•\tChoose a suitable library or method for performing sentiment analysis on the blog post texts.\n",
        "\n",
        "•\tAnalyze the sentiments expressed in the blog posts and categorize them as positive, negative, or neutral. Consider only the Data column and get the sentiment for each blog.\n",
        "\n",
        "•\tExamine the distribution of sentiments across different categories and summarize your findings.\n"
      ],
      "metadata": {
        "id": "V7gcjYIPXK4J"
      }
    },
    {
      "cell_type": "code",
      "source": [
        "# Function to get sentiment\n",
        "def get_sentiment(text):\n",
        "    analysis = TextBlob(text)\n",
        "    # Determine sentiment polarity\n",
        "    if analysis.sentiment.polarity > 0:\n",
        "        return 'Positive'\n",
        "    elif analysis.sentiment.polarity < 0:\n",
        "        return 'Negative'\n",
        "    else:\n",
        "        return 'Neutral'"
      ],
      "metadata": {
        "id": "kkIyB9yuXJW7"
      },
      "execution_count": 16,
      "outputs": []
    },
    {
      "cell_type": "code",
      "source": [
        "# Apply sentiment analysis to the cleaned text\n",
        "df['Sentiment'] = df['Cleaned_Text'].apply(get_sentiment)"
      ],
      "metadata": {
        "id": "N9yldygIXXkM"
      },
      "execution_count": 17,
      "outputs": []
    },
    {
      "cell_type": "code",
      "source": [
        "# Display sentiment distribution\n",
        "print(df['Sentiment'].value_counts())"
      ],
      "metadata": {
        "colab": {
          "base_uri": "https://localhost:8080/"
        },
        "id": "4aW2W0p5Xc1A",
        "outputId": "48d1c3ef-15d6-4628-8204-589c40915337"
      },
      "execution_count": 18,
      "outputs": [
        {
          "output_type": "stream",
          "name": "stdout",
          "text": [
            "Sentiment\n",
            "Positive    1452\n",
            "Negative     545\n",
            "Neutral        3\n",
            "Name: count, dtype: int64\n"
          ]
        }
      ]
    },
    {
      "cell_type": "code",
      "source": [
        "# Display sentiment distribution across categories\n",
        "print(pd.crosstab(df['Labels'], df['Sentiment']))"
      ],
      "metadata": {
        "colab": {
          "base_uri": "https://localhost:8080/"
        },
        "id": "YefYd7SWXgRA",
        "outputId": "ce58a218-dfb5-4895-93df-1b1b3bff0b00"
      },
      "execution_count": 19,
      "outputs": [
        {
          "output_type": "stream",
          "name": "stdout",
          "text": [
            "Sentiment                 Negative  Neutral  Positive\n",
            "Labels                                               \n",
            "alt.atheism                     35        0        65\n",
            "comp.graphics                   27        0        73\n",
            "comp.os.ms-windows.misc         24        0        76\n",
            "comp.sys.ibm.pc.hardware        19        0        81\n",
            "comp.sys.mac.hardware           26        0        74\n",
            "comp.windows.x                  20        2        78\n",
            "misc.forsale                    21        0        79\n",
            "rec.autos                       24        0        76\n",
            "rec.motorcycles                 28        0        72\n",
            "rec.sport.baseball              35        0        65\n",
            "rec.sport.hockey                40        0        60\n",
            "sci.crypt                       19        0        81\n",
            "sci.electronics                 25        0        75\n",
            "sci.med                         34        0        66\n",
            "sci.space                       28        0        72\n",
            "soc.religion.christian          25        0        75\n",
            "talk.politics.guns              40        1        59\n",
            "talk.politics.mideast           29        0        71\n",
            "talk.politics.misc              26        0        74\n",
            "talk.religion.misc              20        0        80\n"
          ]
        }
      ]
    },
    {
      "cell_type": "markdown",
      "source": [
        "# **4: Evaluation of Naive Bayes Classifier**\n",
        "•\tEvaluate the performance of your Naive Bayes classifier using metrics such as accuracy, precision, recall, and F1-score.\n",
        "\n",
        "•\tDiscuss the performance of the model and any challenges encountered during the classification process.\n",
        "\n",
        "•\tReflect on the sentiment analysis results and their implications regarding the content of the blog posts.\n"
      ],
      "metadata": {
        "id": "w1rdLRSJYNX5"
      }
    },
    {
      "cell_type": "code",
      "source": [
        "from sklearn.metrics import accuracy_score, precision_score, recall_score, f1_score, classification_report\n",
        "\n",
        "# Calculate accuracy\n",
        "accuracy = accuracy_score(y_test, y_pred)"
      ],
      "metadata": {
        "id": "eRx3-wG7Xn7P"
      },
      "execution_count": 20,
      "outputs": []
    },
    {
      "cell_type": "code",
      "source": [
        "# Calculate precision, recall, and F1-score for each class\n",
        "precision = precision_score(y_test, y_pred, average='weighted')\n",
        "recall = recall_score(y_test, y_pred, average='weighted')\n",
        "f1 = f1_score(y_test, y_pred, average='weighted')"
      ],
      "metadata": {
        "id": "efY8AK1rYZce"
      },
      "execution_count": 21,
      "outputs": []
    },
    {
      "cell_type": "code",
      "source": [
        "# Print the classification report for detailed metrics\n",
        "class_report = classification_report(y_test, y_pred)"
      ],
      "metadata": {
        "id": "XcHBVCZjYcvp"
      },
      "execution_count": 22,
      "outputs": []
    },
    {
      "cell_type": "code",
      "source": [
        "# Display the results\n",
        "print(f\"Accuracy: {accuracy:.4f}\")\n",
        "print(f\"Precision: {precision:.4f}\")\n",
        "print(f\"Recall: {recall:.4f}\")\n",
        "print(f\"F1-Score: {f1:.4f}\")\n",
        "print(\"\\nClassification Report:\\n\", class_report)"
      ],
      "metadata": {
        "colab": {
          "base_uri": "https://localhost:8080/"
        },
        "id": "a44-27V1Yjnl",
        "outputId": "833db6f0-ad21-4c09-a186-63b6a5d8b16e"
      },
      "execution_count": 23,
      "outputs": [
        {
          "output_type": "stream",
          "name": "stdout",
          "text": [
            "Accuracy: 0.8225\n",
            "Precision: 0.8276\n",
            "Recall: 0.8225\n",
            "F1-Score: 0.8171\n",
            "\n",
            "Classification Report:\n",
            "                           precision    recall  f1-score   support\n",
            "\n",
            "             alt.atheism       0.50      0.83      0.62        18\n",
            "           comp.graphics       0.79      0.83      0.81        18\n",
            " comp.os.ms-windows.misc       0.86      0.82      0.84        22\n",
            "comp.sys.ibm.pc.hardware       0.76      0.76      0.76        25\n",
            "   comp.sys.mac.hardware       0.83      0.90      0.86        21\n",
            "          comp.windows.x       0.91      0.84      0.87        25\n",
            "            misc.forsale       0.82      0.78      0.80        18\n",
            "               rec.autos       0.89      0.94      0.92        18\n",
            "         rec.motorcycles       0.94      0.94      0.94        16\n",
            "      rec.sport.baseball       0.77      0.94      0.85        18\n",
            "        rec.sport.hockey       0.88      1.00      0.94        15\n",
            "               sci.crypt       0.95      0.95      0.95        19\n",
            "         sci.electronics       0.62      0.62      0.62        16\n",
            "                 sci.med       0.88      0.88      0.88        17\n",
            "               sci.space       1.00      0.81      0.89        21\n",
            "  soc.religion.christian       0.88      0.96      0.92        23\n",
            "      talk.politics.guns       0.85      0.79      0.81        28\n",
            "   talk.politics.mideast       1.00      0.90      0.95        20\n",
            "      talk.politics.misc       0.80      0.89      0.84        18\n",
            "      talk.religion.misc       0.60      0.25      0.35        24\n",
            "\n",
            "                accuracy                           0.82       400\n",
            "               macro avg       0.83      0.83      0.82       400\n",
            "            weighted avg       0.83      0.82      0.82       400\n",
            "\n"
          ]
        }
      ]
    },
    {
      "cell_type": "code",
      "source": [
        "# Model performance discussion\n",
        "print(\"The Naive Bayes classifier performed well in categorizing the blog posts, achieving an accuracy of {:.2f}%.\".format(accuracy * 100))\n",
        "\n",
        "# Challenges encountered\n",
        "print(\"Challenges encountered during the classification process included:\")\n",
        "print(\"- Handling imbalanced categories: Some categories may have more blog posts than others, which can affect model performance.\")\n",
        "print(\"- Text preprocessing: Ensuring that the text was cleaned and tokenized properly was crucial for the model to perform well.\")"
      ],
      "metadata": {
        "colab": {
          "base_uri": "https://localhost:8080/"
        },
        "id": "hrkf3i6vYqKp",
        "outputId": "5bf3828f-a83e-470c-c6ba-99937bc7e937"
      },
      "execution_count": 24,
      "outputs": [
        {
          "output_type": "stream",
          "name": "stdout",
          "text": [
            "The Naive Bayes classifier performed well in categorizing the blog posts, achieving an accuracy of 82.25%.\n",
            "Challenges encountered during the classification process included:\n",
            "- Handling imbalanced categories: Some categories may have more blog posts than others, which can affect model performance.\n",
            "- Text preprocessing: Ensuring that the text was cleaned and tokenized properly was crucial for the model to perform well.\n"
          ]
        }
      ]
    },
    {
      "cell_type": "code",
      "source": [
        "# Reflect on the sentiment analysis results\n",
        "sentiment_distribution = df['Sentiment'].value_counts()\n",
        "print(\"\\nSentiment Analysis Reflection:\")\n",
        "print(\"The sentiment analysis of the blog posts revealed the following distribution of sentiments:\")\n",
        "print(sentiment_distribution)"
      ],
      "metadata": {
        "colab": {
          "base_uri": "https://localhost:8080/"
        },
        "id": "bSBM6QFxY3aO",
        "outputId": "c4e7301c-10b3-4514-f145-b3bfb040c59a"
      },
      "execution_count": 25,
      "outputs": [
        {
          "output_type": "stream",
          "name": "stdout",
          "text": [
            "\n",
            "Sentiment Analysis Reflection:\n",
            "The sentiment analysis of the blog posts revealed the following distribution of sentiments:\n",
            "Sentiment\n",
            "Positive    1452\n",
            "Negative     545\n",
            "Neutral        3\n",
            "Name: count, dtype: int64\n"
          ]
        }
      ]
    },
    {
      "cell_type": "code",
      "source": [
        "# Sentiment distribution across different categories\n",
        "sentiment_category_distribution = pd.crosstab(df['Labels'], df['Sentiment'])\n",
        "print(\"\\nSentiment Distribution Across Categories:\\n\", sentiment_category_distribution)"
      ],
      "metadata": {
        "colab": {
          "base_uri": "https://localhost:8080/"
        },
        "id": "1-HhrsXsY9yS",
        "outputId": "475c854b-07e7-49e1-91b9-02c164accaf3"
      },
      "execution_count": 26,
      "outputs": [
        {
          "output_type": "stream",
          "name": "stdout",
          "text": [
            "\n",
            "Sentiment Distribution Across Categories:\n",
            " Sentiment                 Negative  Neutral  Positive\n",
            "Labels                                               \n",
            "alt.atheism                     35        0        65\n",
            "comp.graphics                   27        0        73\n",
            "comp.os.ms-windows.misc         24        0        76\n",
            "comp.sys.ibm.pc.hardware        19        0        81\n",
            "comp.sys.mac.hardware           26        0        74\n",
            "comp.windows.x                  20        2        78\n",
            "misc.forsale                    21        0        79\n",
            "rec.autos                       24        0        76\n",
            "rec.motorcycles                 28        0        72\n",
            "rec.sport.baseball              35        0        65\n",
            "rec.sport.hockey                40        0        60\n",
            "sci.crypt                       19        0        81\n",
            "sci.electronics                 25        0        75\n",
            "sci.med                         34        0        66\n",
            "sci.space                       28        0        72\n",
            "soc.religion.christian          25        0        75\n",
            "talk.politics.guns              40        1        59\n",
            "talk.politics.mideast           29        0        71\n",
            "talk.politics.misc              26        0        74\n",
            "talk.religion.misc              20        0        80\n"
          ]
        }
      ]
    },
    {
      "cell_type": "code",
      "source": [
        "# Discussion of implications\n",
        "print(\"\\nThe sentiment analysis shows how the tone and sentiment of blog posts vary across different categories.\")\n",
        "print(\"For example, certain categories may have a more positive or negative tone based on the nature of their content.\")\n",
        "print(\"These insights could be useful for understanding audience engagement and tailoring content accordingly.\")"
      ],
      "metadata": {
        "colab": {
          "base_uri": "https://localhost:8080/"
        },
        "id": "fRxQEwbkZB2N",
        "outputId": "20e1a472-15b0-4dd6-d1bb-cb847e63f8d6"
      },
      "execution_count": 27,
      "outputs": [
        {
          "output_type": "stream",
          "name": "stdout",
          "text": [
            "\n",
            "The sentiment analysis shows how the tone and sentiment of blog posts vary across different categories.\n",
            "For example, certain categories may have a more positive or negative tone based on the nature of their content.\n",
            "These insights could be useful for understanding audience engagement and tailoring content accordingly.\n"
          ]
        }
      ]
    }
  ]
}