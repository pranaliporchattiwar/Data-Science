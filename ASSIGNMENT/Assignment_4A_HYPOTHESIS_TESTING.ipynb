{
  "nbformat": 4,
  "nbformat_minor": 0,
  "metadata": {
    "colab": {
      "provenance": []
    },
    "kernelspec": {
      "name": "python3",
      "display_name": "Python 3"
    },
    "language_info": {
      "name": "python"
    }
  },
  "cells": [
    {
      "cell_type": "code",
      "execution_count": 3,
      "metadata": {
        "id": "09pxr6IeaUYm"
      },
      "outputs": [],
      "source": [
        "import math\n",
        "from scipy.stats import norm"
      ]
    },
    {
      "cell_type": "markdown",
      "source": [
        "# **1. State the Hypotheses statement:**\n"
      ],
      "metadata": {
        "id": "VqkInXZhoSx0"
      }
    },
    {
      "cell_type": "code",
      "source": [
        "# Given data\n",
        "sample_mean = 3050  # Sample mean weekly cost in Rs.\n",
        "theoretical_cost_model = 1000 + 5 * 600  # Theoretical mean weekly cost for X = 600 units\n",
        "sigma = 5 * 25  # Standard deviation (σ)\n",
        "sample_size = 25  # Sample size (n)\n",
        "alpha = 0.05  # Significance level"
      ],
      "metadata": {
        "id": "QVximId6ae3z"
      },
      "execution_count": 4,
      "outputs": []
    },
    {
      "cell_type": "markdown",
      "source": [
        "# **2. Calculate the Test Statistic:**"
      ],
      "metadata": {
        "id": "2QCdgWt9pIZy"
      }
    },
    {
      "cell_type": "code",
      "source": [
        "# Calculate the test statistic (t)\n",
        "standard_error = sigma / math.sqrt(sample_size)\n",
        "t_statistic = (sample_mean - theoretical_cost_model) / standard_error\n",
        "standard_error, t_statistic"
      ],
      "metadata": {
        "colab": {
          "base_uri": "https://localhost:8080/"
        },
        "id": "HoS0cm08alEQ",
        "outputId": "8516ad90-8434-4f97-8f2f-56dd61085fd0"
      },
      "execution_count": 5,
      "outputs": [
        {
          "output_type": "execute_result",
          "data": {
            "text/plain": [
              "(25.0, -38.0)"
            ]
          },
          "metadata": {},
          "execution_count": 5
        }
      ]
    },
    {
      "cell_type": "markdown",
      "source": [
        "# **3. Determine the Critical Value:**"
      ],
      "metadata": {
        "id": "q-sCVMnFpFaa"
      }
    },
    {
      "cell_type": "code",
      "source": [
        "# Determine the critical value from the Z distribution for a one-tailed test\n",
        "critical_value = norm.ppf(alpha)\n",
        "critical_value"
      ],
      "metadata": {
        "colab": {
          "base_uri": "https://localhost:8080/"
        },
        "id": "2to3eL4Ba2On",
        "outputId": "84f1a9a6-ba0d-4642-c231-e38f252eb6fb"
      },
      "execution_count": 6,
      "outputs": [
        {
          "output_type": "execute_result",
          "data": {
            "text/plain": [
              "-1.6448536269514729"
            ]
          },
          "metadata": {},
          "execution_count": 6
        }
      ]
    },
    {
      "cell_type": "code",
      "source": [
        "# Output results\n",
        "print(\"Theoretical Mean Weekly Cost (μ):\", theoretical_cost_model)\n",
        "print(\"Sample Mean Weekly Cost (x̄):\", sample_mean)\n",
        "print(\"Standard Error:\", standard_error)\n",
        "print(\"Test Statistic (t):\", t_statistic)\n",
        "print(\"Critical Value:\", critical_value)"
      ],
      "metadata": {
        "colab": {
          "base_uri": "https://localhost:8080/"
        },
        "id": "EjV7w32zbACj",
        "outputId": "7f53c999-ef8d-4e76-917a-cced5e28e479"
      },
      "execution_count": 7,
      "outputs": [
        {
          "output_type": "stream",
          "name": "stdout",
          "text": [
            "Theoretical Mean Weekly Cost (μ): 4000\n",
            "Sample Mean Weekly Cost (x̄): 3050\n",
            "Standard Error: 25.0\n",
            "Test Statistic (t): -38.0\n",
            "Critical Value: -1.6448536269514729\n"
          ]
        }
      ]
    },
    {
      "cell_type": "markdown",
      "source": [
        "# **2. Calculate the Test Statistic:**"
      ],
      "metadata": {
        "id": "Q8SMNcLXpRWe"
      }
    },
    {
      "cell_type": "code",
      "source": [
        "# Make a decision\n",
        "if t_statistic < critical_value:\n",
        "    print(\"Reject the null hypothesis H₀: There is strong evidence that the weekly operating costs are higher than the model suggests.\")\n",
        "else:\n",
        "    print(\"Fail to reject the null hypothesis H₀: There is not enough evidence to suggest that the weekly operating costs are higher than the model suggests.\")"
      ],
      "metadata": {
        "colab": {
          "base_uri": "https://localhost:8080/"
        },
        "id": "dF7dbpIpbGip",
        "outputId": "f525df2a-33a1-4039-cafe-c50aa3ff649c"
      },
      "execution_count": 8,
      "outputs": [
        {
          "output_type": "stream",
          "name": "stdout",
          "text": [
            "Reject the null hypothesis H₀: There is strong evidence that the weekly operating costs are higher than the model suggests.\n"
          ]
        }
      ]
    },
    {
      "cell_type": "markdown",
      "source": [
        "# **Conclusion:**\n",
        "\n",
        "Based on the hypothesis test, the calculated test statistic is much lower than the critical value. This means that the evidence strongly supports rejecting the null hypothesis. Therefore, we conclude that there is strong evidence to support the restaurant owners' claim that the weekly operating costs are indeed higher than what the theoretical cost model suggests."
      ],
      "metadata": {
        "id": "jh8oeijbd8LQ"
      }
    }
  ]
}