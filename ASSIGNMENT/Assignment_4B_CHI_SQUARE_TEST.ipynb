{
  "nbformat": 4,
  "nbformat_minor": 0,
  "metadata": {
    "colab": {
      "provenance": []
    },
    "kernelspec": {
      "name": "python3",
      "display_name": "Python 3"
    },
    "language_info": {
      "name": "python"
    }
  },
  "cells": [
    {
      "cell_type": "code",
      "execution_count": 1,
      "metadata": {
        "id": "_tI2NYugNwsl"
      },
      "outputs": [],
      "source": [
        "import scipy.stats as stats\n",
        "import numpy as np"
      ]
    },
    {
      "cell_type": "code",
      "source": [
        "# Data Provided in the Contingency Table\n",
        "observed_data = np.array([[50, 70],\n",
        "                          [80, 100],\n",
        "                          [60, 90],\n",
        "                          [30, 50],\n",
        "                          [20, 50]])"
      ],
      "metadata": {
        "id": "JnbnoMRJOEkH"
      },
      "execution_count": 2,
      "outputs": []
    },
    {
      "cell_type": "markdown",
      "source": [
        "# 1**. State the Hypotheses:**"
      ],
      "metadata": {
        "id": "lZoXnF4rqklu"
      }
    },
    {
      "cell_type": "code",
      "source": [
        "# Step 1: State the Hypotheses\n",
        "# H0: There is no association between the type of device (Smart Thermostat vs. Smart Light) and customer satisfaction level.\n",
        "# H1: There is an association between the type of device (Smart Thermostat vs. Smart Light) and customer satisfaction level."
      ],
      "metadata": {
        "id": "iw9zpB3nOEgy"
      },
      "execution_count": 3,
      "outputs": []
    },
    {
      "cell_type": "markdown",
      "source": [
        "# **2. Compute the Chi-Square Statistic:**"
      ],
      "metadata": {
        "id": "7_0hVu5ZqnrL"
      }
    },
    {
      "cell_type": "code",
      "source": [
        "# Step 2: Compute the Chi-Square Statistic\n",
        "chi2_statistic, p_value, dof, expected_data = stats.chi2_contingency(observed_data)"
      ],
      "metadata": {
        "id": "NBFcrTiKOEdr"
      },
      "execution_count": 4,
      "outputs": []
    },
    {
      "cell_type": "markdown",
      "source": [
        "# 3**. Determine the Critical Value:**\n",
        "\n",
        "Using the significance level (alpha) of 0.05 and the degrees of freedom (which is the number of categories minus 1)\n"
      ],
      "metadata": {
        "id": "_JNTJeeCqupk"
      }
    },
    {
      "cell_type": "code",
      "source": [
        "# Step 3: Determine the Critical Value\n",
        "# Degrees of freedom (dof) = (number of rows - 1) * (number of columns - 1)\n",
        "# Significance level (alpha) = 0.05\n",
        "alpha = 0.05\n",
        "critical_value = stats.chi2.ppf(1 - alpha, dof)\n",
        "critical_value"
      ],
      "metadata": {
        "colab": {
          "base_uri": "https://localhost:8080/"
        },
        "id": "VwnYzlOROEZ_",
        "outputId": "bbdb4d88-c953-45c8-ef81-aa1b77dc427a"
      },
      "execution_count": 5,
      "outputs": [
        {
          "output_type": "execute_result",
          "data": {
            "text/plain": [
              "9.487729036781154"
            ]
          },
          "metadata": {},
          "execution_count": 5
        }
      ]
    },
    {
      "cell_type": "markdown",
      "source": [
        "# **4. Make a Decision:**"
      ],
      "metadata": {
        "id": "za6FfSk1q53V"
      }
    },
    {
      "cell_type": "code",
      "source": [
        "# Step 4: Make a Decision\n",
        "decision = \"Reject the null hypothesis\" if chi2_statistic > critical_value else \"Fail to reject the null hypothesis\""
      ],
      "metadata": {
        "id": "eRhaHkFUOETJ"
      },
      "execution_count": 6,
      "outputs": []
    },
    {
      "cell_type": "markdown",
      "source": [
        "# **Submission Guidelines:**\n",
        "\n",
        "•\tProvide a detailed report of your analysis, including each step outlined in the assignment tasks in a python file.\n"
      ],
      "metadata": {
        "id": "a39f9By-rE3K"
      }
    },
    {
      "cell_type": "code",
      "source": [
        "# Report\n",
        "print(f\"Chi-Square Statistic: {chi2_statistic}\")\n",
        "print(f\"Degrees of Freedom: {dof}\")\n",
        "print(f\"Critical Value: {critical_value}\")\n",
        "print(f\"P-Value: {p_value}\")\n",
        "print(f\"Decision: {decision}\")"
      ],
      "metadata": {
        "colab": {
          "base_uri": "https://localhost:8080/"
        },
        "id": "H0UPNQBHPAdj",
        "outputId": "b20a3a73-d8ea-46ea-90fb-919d88bdc96a"
      },
      "execution_count": 7,
      "outputs": [
        {
          "output_type": "stream",
          "name": "stdout",
          "text": [
            "Chi-Square Statistic: 5.638227513227513\n",
            "Degrees of Freedom: 4\n",
            "Critical Value: 9.487729036781154\n",
            "P-Value: 0.22784371130697179\n",
            "Decision: Fail to reject the null hypothesis\n"
          ]
        }
      ]
    },
    {
      "cell_type": "code",
      "source": [
        "# Interpretation\n",
        "if chi2_statistic > critical_value:\n",
        "    print(\"There is a significant association between the type of device purchased and the customer's satisfaction level.\")\n",
        "else:\n",
        "    print(\"There is no significant association between the type of device purchased and the customer's satisfaction level.\")"
      ],
      "metadata": {
        "colab": {
          "base_uri": "https://localhost:8080/"
        },
        "id": "ms5XPkHTPG3a",
        "outputId": "f5852898-4b27-4962-d090-250633c7304f"
      },
      "execution_count": 8,
      "outputs": [
        {
          "output_type": "stream",
          "name": "stdout",
          "text": [
            "There is no significant association between the type of device purchased and the customer's satisfaction level.\n"
          ]
        }
      ]
    },
    {
      "cell_type": "markdown",
      "source": [
        "#**Steps**\n",
        "•\tInclude all calculations, the Chi-Square statistic, the critical value, and your conclusion.\n",
        "\n",
        "**Hypotheses:**\n",
        "\n",
        "H0 (Null Hypothesis): No association between device type and customer satisfaction.\n",
        "\n",
        "H1 (Alternative Hypothesis): Association exists between device type and customer satisfaction.\n",
        "Compute Chi-Square Statistic:\n",
        "\n",
        "Use scipy.stats.chi2_contingency() to calculate the Chi-Square statistic, p-value, degrees of freedom, and expected frequencies.\n",
        "\n",
        "**Determine Critical Value:**\n",
        "\n",
        "Calculate using stats.chi2.ppf(1 - alpha, dof) where alpha = 0.05 and dof = degrees of freedom.\n",
        "\n",
        "**Make a Decision:**\n",
        "\n",
        "Compare the Chi-Square statistic with the critical value to decide whether to reject the null hypothesis."
      ],
      "metadata": {
        "id": "dN4oLz78SOyW"
      }
    },
    {
      "cell_type": "markdown",
      "source": [
        "**Chi-Square Statistic:** 5.64\n",
        "\n",
        "\n",
        "Critical Value (at\n",
        "𝛼\n",
        "=\n",
        "0.05\n",
        "α=0.05):- 9.49\n",
        "\n",
        "\n",
        "**Decision:** Do not reject the null hypothesis.\n",
        "\n",
        "\n",
        "\n",
        "# **Conclusion:**\n",
        "\n",
        "Since the Chi-Square statistic (5.64) is less than the critical value (9.49), we do not reject the null hypothesis. This means there is not enough evidence to suggest a significant association between the type of smart home device purchased (Smart Thermostats vs. Smart Lights) and customer satisfaction levels"
      ],
      "metadata": {
        "id": "gNeEBbL8UdGE"
      }
    }
  ]
}