{
  "nbformat": 4,
  "nbformat_minor": 0,
  "metadata": {
    "colab": {
      "provenance": []
    },
    "kernelspec": {
      "name": "python3",
      "display_name": "Python 3"
    },
    "language_info": {
      "name": "python"
    }
  },
  "cells": [
    {
      "cell_type": "markdown",
      "source": [
        "# **Exercise 1: Prime Numbers**"
      ],
      "metadata": {
        "id": "ujIQNYrVmLTo"
      }
    },
    {
      "cell_type": "code",
      "execution_count": 1,
      "metadata": {
        "colab": {
          "base_uri": "https://localhost:8080/"
        },
        "id": "rAykinXWGq9g",
        "outputId": "508371e8-7d66-4dbb-84b0-7cc154d3d919"
      },
      "outputs": [
        {
          "output_type": "stream",
          "name": "stdout",
          "text": [
            "Enter a number to check if it's prime: 5\n",
            "5 is a prime number.\n"
          ]
        }
      ],
      "source": [
        "#Exercise 1: Prime Numbers\n",
        "def is_prime(num):\n",
        "    \"\"\"Check if a number is prime.\"\"\"\n",
        "    if num <= 1:\n",
        "        return False\n",
        "    for i in range(2, int(num**0.5) + 1):\n",
        "        if num % i == 0:\n",
        "            return False\n",
        "    return True\n",
        "\n",
        "# Example usage\n",
        "number = int(input(\"Enter a number to check if it's prime: \"))\n",
        "if is_prime(number):\n",
        "    print(f\"{number} is a prime number.\")\n",
        "else:\n",
        "    print(f\"{number} is not a prime number.\")"
      ]
    },
    {
      "cell_type": "markdown",
      "source": [
        "# **Exercise 2: Product of Random Numbers**"
      ],
      "metadata": {
        "id": "rU63SYpNmbtD"
      }
    },
    {
      "cell_type": "code",
      "source": [
        "#Exercise 2: Product of Random Numbers\n",
        "import random\n",
        "\n",
        "def check_product():\n",
        "    \"Generate two random numbers and check if the user's product is correct.\"\n",
        "    num1 = random.randint(1, 10)\n",
        "    num2 = random.randint(1, 10)\n",
        "    correct_product = num1 * num2\n",
        "\n",
        "    print(f\"Generated numbers: {num1} and {num2}\")\n",
        "    user_product = int(input(\"Enter the product of these numbers: \"))\n",
        "\n",
        "    if user_product == correct_product:\n",
        "        print(\"Correct!\")\n",
        "    else:\n",
        "        print(f\"Incorrect. The correct product was {correct_product}.\")\n",
        "\n",
        "# Example usage\n",
        "check_product()"
      ],
      "metadata": {
        "colab": {
          "base_uri": "https://localhost:8080/"
        },
        "id": "kL0cElgtRU8Y",
        "outputId": "fabd157c-445e-471a-8ced-36e149078236"
      },
      "execution_count": 2,
      "outputs": [
        {
          "output_type": "stream",
          "name": "stdout",
          "text": [
            "Generated numbers: 1 and 7\n",
            "Enter the product of these numbers: 6\n",
            "Incorrect. The correct product was 7.\n"
          ]
        }
      ]
    },
    {
      "cell_type": "markdown",
      "source": [
        "# **Exercise 3: Squares of Even/Odd Numbers**"
      ],
      "metadata": {
        "id": "K2pI4A2TmfFK"
      }
    },
    {
      "cell_type": "code",
      "source": [
        "#Exercise 3: Squares of Even Numbers\n",
        "def squares_of_even_numbers(start, end):\n",
        "    \"\"\"Print squares of even numbers in a given range.\"\"\"\n",
        "    print(f\"Squares of even numbers from {start} to {end}:\")\n",
        "    for num in range(start, end + 1):\n",
        "        if num % 2 == 0:\n",
        "            print(f\"{num}^2 = {num**2}\")\n",
        "\n",
        "# Example usage\n",
        "squares_of_even_numbers(100, 200)"
      ],
      "metadata": {
        "colab": {
          "base_uri": "https://localhost:8080/"
        },
        "id": "YMo9cbqQKcxj",
        "outputId": "57354f02-76c7-411a-bec1-dcc53b57cb81"
      },
      "execution_count": 3,
      "outputs": [
        {
          "output_type": "stream",
          "name": "stdout",
          "text": [
            "Squares of even numbers from 100 to 200:\n",
            "100^2 = 10000\n",
            "102^2 = 10404\n",
            "104^2 = 10816\n",
            "106^2 = 11236\n",
            "108^2 = 11664\n",
            "110^2 = 12100\n",
            "112^2 = 12544\n",
            "114^2 = 12996\n",
            "116^2 = 13456\n",
            "118^2 = 13924\n",
            "120^2 = 14400\n",
            "122^2 = 14884\n",
            "124^2 = 15376\n",
            "126^2 = 15876\n",
            "128^2 = 16384\n",
            "130^2 = 16900\n",
            "132^2 = 17424\n",
            "134^2 = 17956\n",
            "136^2 = 18496\n",
            "138^2 = 19044\n",
            "140^2 = 19600\n",
            "142^2 = 20164\n",
            "144^2 = 20736\n",
            "146^2 = 21316\n",
            "148^2 = 21904\n",
            "150^2 = 22500\n",
            "152^2 = 23104\n",
            "154^2 = 23716\n",
            "156^2 = 24336\n",
            "158^2 = 24964\n",
            "160^2 = 25600\n",
            "162^2 = 26244\n",
            "164^2 = 26896\n",
            "166^2 = 27556\n",
            "168^2 = 28224\n",
            "170^2 = 28900\n",
            "172^2 = 29584\n",
            "174^2 = 30276\n",
            "176^2 = 30976\n",
            "178^2 = 31684\n",
            "180^2 = 32400\n",
            "182^2 = 33124\n",
            "184^2 = 33856\n",
            "186^2 = 34596\n",
            "188^2 = 35344\n",
            "190^2 = 36100\n",
            "192^2 = 36864\n",
            "194^2 = 37636\n",
            "196^2 = 38416\n",
            "198^2 = 39204\n",
            "200^2 = 40000\n"
          ]
        }
      ]
    },
    {
      "cell_type": "markdown",
      "source": [
        "# **Exercise 4: Word counter**"
      ],
      "metadata": {
        "id": "sT1U5SkNml3Y"
      }
    },
    {
      "cell_type": "code",
      "source": [
        "#Exercise 4: Word Counter\n",
        "\n",
        "from collections import Counter\n",
        "import re\n",
        "\n",
        "def count_words(text):\n",
        "    \"\"\"Count the number of occurrences of each word in the given text.\"\"\"\n",
        "    words = re.findall(r'\\b\\w+\\b', text.lower())  # Use regex to find words and make the text lowercase\n",
        "    word_count = Counter(words)\n",
        "\n",
        "    for word, count in word_count.items():\n",
        "        print(f\"'{word}': {count}\")\n",
        "\n",
        "# Example usage\n",
        "input_text = \"Data science is the study of data to extract meaningful insights for business.\"\n",
        "count_words(input_text)"
      ],
      "metadata": {
        "colab": {
          "base_uri": "https://localhost:8080/"
        },
        "id": "b1z3KtdOL454",
        "outputId": "4d3c0396-0dea-4336-be91-7de94b23d5d8"
      },
      "execution_count": 4,
      "outputs": [
        {
          "output_type": "stream",
          "name": "stdout",
          "text": [
            "'data': 2\n",
            "'science': 1\n",
            "'is': 1\n",
            "'the': 1\n",
            "'study': 1\n",
            "'of': 1\n",
            "'to': 1\n",
            "'extract': 1\n",
            "'meaningful': 1\n",
            "'insights': 1\n",
            "'for': 1\n",
            "'business': 1\n"
          ]
        }
      ]
    },
    {
      "cell_type": "markdown",
      "source": [
        "# **Exercise 5: Check for Palindrome**"
      ],
      "metadata": {
        "id": "RBCMFKShmr9P"
      }
    },
    {
      "cell_type": "code",
      "source": [
        "#Exercise 5: Check for Palindrome\n",
        "import re\n",
        "\n",
        "def is_palindrome(s):\n",
        "    \"\"\"Check if a given string is a palindrome.\"\"\"\n",
        "    cleaned_str = re.sub(r'[^a-zA-Z0-9]', '', s).lower()  # Remove non-alphanumeric characters and make lowercase\n",
        "    return cleaned_str == cleaned_str[::-1]\n",
        "\n",
        "# Example usage\n",
        "input_string = input(\"Enter a string to check if it's a palindrome: \")\n",
        "if is_palindrome(input_string):\n",
        "    print(\" True.\")\n",
        "else:\n",
        "    print(\" False.\")\n"
      ],
      "metadata": {
        "colab": {
          "base_uri": "https://localhost:8080/"
        },
        "id": "RdJwAbRhMk4V",
        "outputId": "2376e1a2-8bcd-4cda-c1fd-dac52cd04a4c"
      },
      "execution_count": 6,
      "outputs": [
        {
          "output_type": "stream",
          "name": "stdout",
          "text": [
            "Enter a string to check if it's a palindrome: ma'am\n",
            " True.\n"
          ]
        }
      ]
    }
  ]
}